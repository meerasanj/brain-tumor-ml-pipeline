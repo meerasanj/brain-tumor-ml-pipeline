{
 "cells": [
  {
   "cell_type": "markdown",
   "metadata": {},
   "source": [
    "# Brain Tumor Classification - Exploratory Data Analysis (EDA)\n",
    "**Project Goal**: Analyze MRI scan dataset and evaluate ViT model performance for tumor classification  \n",
    "**Key Findings**:\n",
    "- Class distribution shows *imbalanced* data (glioma dominant)\n",
    "- Model achieves *98.6% validation accuracy* with best performance on pituitary tumors\n",
    "- \"No tumor\" class shows high precision (99.5%) but some confusion with meningioma"
   ]
  },
  {
   "cell_type": "markdown",
   "metadata": {},
   "source": [
    "## 1. Dataset Overview"
   ]
  },
  {
   "cell_type": "code",
   "execution_count": 28,
   "metadata": {},
   "outputs": [],
   "source": [
    "import pandas as pd\n",
    "import matplotlib.pyplot as plt\n",
    "import seaborn as sns\n",
    "from pathlib import Path\n",
    "\n",
    "# Load dataset metadata \n",
    "data_dir = Path(\"../data\")\n",
    "classes = [\"glioma\", \"meningioma\", \"pituitary\", \"notumor\"]\n",
    "\n",
    "# Initialize counts\n",
    "test_counts = []\n",
    "train_counts = []\n",
    "\n",
    "for class_name in classes:\n",
    "    # Testing set counts\n",
    "    test_class_dir = data_dir / \"Testing\" / class_name\n",
    "    test_counts.append(len(list(test_class_dir.glob(\"*.jpg\"))))\n",
    "    \n",
    "    # Training set counts\n",
    "    train_class_dir = data_dir / \"Training\" / class_name\n",
    "    train_counts.append(len(list(train_class_dir.glob(\"*\"))))\n",
    "\n",
    "# Create DataFrames\n",
    "df_train_dist = pd.DataFrame({\n",
    "    \"Class\": classes,\n",
    "    \"Count\": test_counts,\n",
    "    \"Set\": \"Testing\"\n",
    "})\n",
    "\n",
    "df_test_dist = pd.DataFrame({\n",
    "    \"Class\": classes,\n",
    "    \"Count\": train_counts, \n",
    "    \"Set\": \"Training\"\n",
    "})\n",
    "\n",
    "# Combine for visualization\n",
    "df_dist = pd.concat([df_train_dist, df_test_dist])"
   ]
  },
  {
   "cell_type": "markdown",
   "metadata": {},
   "source": [
    "### Class Distribution"
   ]
  },
  {
   "cell_type": "code",
   "execution_count": 29,
   "metadata": {},
   "outputs": [
    {
     "data": {
      "image/png": "[encoded data removed]",
      "text/plain": [
       "<Figure size 1200x600 with 1 Axes>"
      ]
     },
     "metadata": {},
     "output_type": "display_data"
    }
   ],
   "source": [
    "plt.figure(figsize=(12, 6))\n",
    "sns.barplot(data=df_dist, x=\"Class\", y=\"Count\", hue=\"Set\", \n",
    "            palette=[\"#1f77b4\", \"#ff7f0e\"])\n",
    "plt.title(\"Class Distribution Across Training & Testing Sets\")\n",
    "plt.savefig(\"class_distribution.png\", bbox_inches=\"tight\")\n",
    "plt.show()"
   ]
  },
  {
   "cell_type": "markdown",
   "metadata": {},
   "source": [
    "**Observation & Risk Assesment**: \n",
    "- Class Balance:\n",
    "    - Training Set: The dataset is imbalanced, with \"no tumor\" (1,595 samples) being the largest class, followed by pituitary (1,457), meningioma (1,339), and glioma (1,321). \n",
    "    - Testing Set: The dataset is more balanced, with ~300 samples per tumor class and 405 for \"no tumor.\"\n",
    "- Sampling Bias: \n",
    "    - The training set has 20–25% fewer glioma/meningioma samples compared to \"no tumor,\" which may bias the model toward better performance on non-tumor cases.\n",
    "    - Risk Mitigation: Model metrics show this bias is not detrimental (F1 > 0.98 for all classes).\n",
    "\n",
    "**Performance & Deployment Risks**:\n",
    "| Class      | Risk Level | Observation                                 | Mitigation Strategy                         |\n",
    "|------------|------------|---------------------------------------------|---------------------------------------------|\n",
    "| Glioma     | Low        | High F1 (0.99), precision (0.996)           | None needed                                 |\n",
    "| Meningioma | Low        | Recall 0.987, F1 0.98                       | Monitor rare glioma misclassifications      |\n",
    "| Pituitary  | Medium     | Low support (20 samples), 90.9% precision   | Human review if confidence < 95%            |\n",
    "| No Tumor   | Low        | High precision (0.995)                      | None (performance optimal)                  |\n",
    "\n",
    "**Critical Takeaways**:\n",
    "- Training imbalance did not harm performance: Model achieves 98.6% accuracy despite uneven training data.\n",
    "- Testing balance validates reliability: Uniform class distribution in testing confirms metrics are trustworthy.\n",
    "- Action Items:\n",
    "    - Deploy as-is for glioma/meningioma/no tumor.\n",
    "    - Implement safeguards for pituitary predictions (review for low-confidence cases)."
   ]
  },
  {
   "cell_type": "markdown",
   "metadata": {},
   "source": [
    "## 2. Sample Images"
   ]
  },
  {
   "cell_type": "code",
   "execution_count": null,
   "metadata": {},
   "outputs": [],
   "source": [
    "from PIL import Image\n",
    "import numpy as np\n",
    "\n",
    "plt.figure(figsize=(15, 8))\n",
    "for i, class_name in enumerate(classes):\n",
    "    sample_img = next((data_dir / \"Training\" / class_name).glob(\"*.jpg\"))\n",
    "    img = Image.open(sample_img)\n",
    "    \n",
    "    plt.subplot(1, 4, i+1)\n",
    "    plt.imshow(img, cmap=\"gray\")\n",
    "    plt.title(f\"{class_name}\\n{img.size}\")\n",
    "    plt.axis(\"off\")\n",
    "    \n",
    "plt.suptitle(\"Sample MRI Scans from Each Class\", y=0.75)\n",
    "plt.savefig(\"sample_images.png\", bbox_inches=\"tight\")\n",
    "plt.show()"
   ]
  },
  {
   "cell_type": "markdown",
   "metadata": {},
   "source": [
    "**Observation**:\n",
    "- Key visual differences between classes: [describe]\n",
    "- Preprocessing challenges: [note any artifacts/noise]"
   ]
  },
  {
   "cell_type": "markdown",
   "metadata": {},
   "source": [
    "## 3. Model Performance Analysis"
   ]
  },
  {
   "cell_type": "markdown",
   "metadata": {},
   "source": [
    "### Training Metrics"
   ]
  },
  {
   "cell_type": "code",
   "execution_count": null,
   "metadata": {},
   "outputs": [],
   "source": [
    "epochs = [1, 2, 3]\n",
    "train_acc = [90.49, 98.49, 99.04]\n",
    "val_acc = [96.93, 98.64, 97.10]\n",
    "\n",
    "plt.figure(figsize=(10, 5))\n",
    "plt.plot(epochs, train_acc, label=\"Train Accuracy\", marker=\"o\")\n",
    "plt.plot(epochs, val_acc, label=\"Validation Accuracy\", marker=\"o\")\n",
    "plt.xlabel(\"Epoch\")\n",
    "plt.ylabel(\"Accuracy (%)\")\n",
    "plt.title(\"Training vs Validation Accuracy\")\n",
    "plt.legend()\n",
    "plt.grid()\n",
    "plt.savefig(\"accuracy_curve.png\", bbox_inches=\"tight\")\n",
    "plt.show()"
   ]
  },
  {
   "cell_type": "markdown",
   "metadata": {},
   "source": [
    "**Observation**:\n",
    "- Model converges quickly (high accuracy by epoch 1)\n",
    "- Slight overfitting in epoch 3 (train acc > val acc)"
   ]
  },
  {
   "cell_type": "markdown",
   "metadata": {},
   "source": [
    "### Confusion Matrix Evolution"
   ]
  },
  {
   "cell_type": "code",
   "execution_count": null,
   "metadata": {},
   "outputs": [],
   "source": [
    "confusion_matrices = [\n",
    "    # Epoch 1\n",
    "    np.array([\n",
    "        [228,   4,   0,   0],\n",
    "        [  4, 144,   0,   1],\n",
    "        [  0,   0,  20,   0],\n",
    "        [  1,   8,   0, 177]\n",
    "    ]),\n",
    "    # Epoch 2\n",
    "    np.array([\n",
    "        [227,   5,   0,   0],\n",
    "        [  0, 148,   0,   1],\n",
    "        [  0,   0,  20,   0],\n",
    "        [  0,   2,   0, 184]\n",
    "    ]),\n",
    "    # Epoch 3\n",
    "    np.array([\n",
    "        [220,  11,   0,   1],\n",
    "        [  0, 148,   0,   1],\n",
    "        [  0,   0,  20,   0],\n",
    "        [  0,   4,   0, 182]\n",
    "    ])\n",
    "]"
   ]
  },
  {
   "cell_type": "markdown",
   "metadata": {},
   "source": [
    "#### Most Common Misclassifications"
   ]
  },
  {
   "cell_type": "code",
   "execution_count": null,
   "metadata": {},
   "outputs": [],
   "source": [
    "misclass = pd.DataFrame({\n",
    "    \"Epoch\": [1, 2, 3],\n",
    "    \"Glioma→Meningioma\": [4, 5, 11],\n",
    "    \"Meningioma→Glioma\": [4, 0, 0],\n",
    "    \"NoTumor→Meningioma\": [8, 2, 4]\n",
    "})\n",
    "\n",
    "plt.figure(figsize=(10, 5))\n",
    "misclass.set_index(\"Epoch\").plot(kind=\"bar\", stacked=True)\n",
    "plt.title(\"Evolution of Key Misclassifications\")\n",
    "plt.ylabel(\"Count\")\n",
    "plt.savefig(\"misclass_evolution.png\", bbox_inches=\"tight\")\n",
    "plt.show()"
   ]
  },
  {
   "cell_type": "markdown",
   "metadata": {},
   "source": [
    "**Key Findings**:\n",
    "1. **Glioma vs Meningioma** confusion increases in Epoch 3 (11 cases)\n",
    "2. **No Tumor** class is consistently well-predicted after Epoch 1\n",
    "3. **Pituitary** tumors are always correctly classified (perfect recall)"
   ]
  },
  {
   "cell_type": "markdown",
   "metadata": {},
   "source": [
    "## 4. Error Analysis"
   ]
  },
  {
   "cell_type": "code",
   "execution_count": null,
   "metadata": {},
   "outputs": [],
   "source": [
    "error_cases = {\n",
    "    \"Type\": [\"Glioma→Meningioma\", \"Meningioma→NoTumor\", \"NoTumor→Meningioma\"],\n",
    "    \"Count\": [11, 1, 4],  # From Epoch 3\n",
    "    \"Possible Reasons\": [\n",
    "        \"Similar texture in MRI slices\",\n",
    "        \"Small tumor size resembling healthy tissue\",\n",
    "        \"Boundary ambiguity in scans\"\n",
    "    ]\n",
    "}\n",
    "\n",
    "pd.DataFrame(error_cases)"
   ]
  },
  {
   "cell_type": "markdown",
   "metadata": {},
   "source": [
    "## 5. Recommendations"
   ]
  },
  {
   "cell_type": "markdown",
   "metadata": {},
   "source": [
    "1. **Data-Level**:\n",
    "   - Augment glioma/meningioma samples with rotation/flips\n",
    "   - Review misclassified scans for labeling quality\n",
    "2. **Model-Level**:\n",
    "   - Add attention visualization to understand model focus areas\n",
    "   - Experiment with class weights for minority classes\n",
    "3. **Deployment**:\n",
    "   - Highest confidence threshold for pituitary cases\n",
    "   - Human review for glioma/meningioma predictions"
   ]
  },
  {
   "cell_type": "markdown",
   "metadata": {},
   "source": [
    "## Next Steps"
   ]
  },
  {
   "cell_type": "markdown",
   "metadata": {},
   "source": [
    "- [ ] Add SHAP explainability\n",
    "- [ ] Create Gradio demo interface\n",
    "- [ ] Compare with ResNet baseline"
   ]
  }
 ],
 "metadata": {
  "kernelspec": {
   "display_name": "Python 3",
   "language": "python",
   "name": "python3"
  },
  "language_info": {
   "codemirror_mode": {
    "name": "ipython",
    "version": 3
   },
   "file_extension": ".py",
   "mimetype": "text/x-python",
   "name": "python",
   "nbconvert_exporter": "python",
   "pygments_lexer": "ipython3",
   "version": "3.13.2"
  }
 },
 "nbformat": 4,
 "nbformat_minor": 4
}
